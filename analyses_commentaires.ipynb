{
 "cells": [
  {
   "cell_type": "code",
   "execution_count": 3,
   "metadata": {},
   "outputs": [],
   "source": [
    "# Importation des librairies\n",
    "from webscraping.ws_fonctions import *\n"
   ]
  },
  {
   "cell_type": "markdown",
   "metadata": {},
   "source": [
    "## Récupération des commentaires 'spectateurs' du film \"....\""
   ]
  },
  {
   "cell_type": "code",
   "execution_count": 6,
   "metadata": {},
   "outputs": [],
   "source": [
    "# URL de la page principale et nombre de pages à considérer\n",
    "url_comm_spec = 'https://www.allocine.fr/film/fichefilm-278006/critiques/spectateurs/'\n",
    "nb_pages = 2"
   ]
  },
  {
   "cell_type": "code",
   "execution_count": 12,
   "metadata": {},
   "outputs": [
    {
     "data": {
      "text/html": [
       "<div>\n",
       "<style scoped>\n",
       "    .dataframe tbody tr th:only-of-type {\n",
       "        vertical-align: middle;\n",
       "    }\n",
       "\n",
       "    .dataframe tbody tr th {\n",
       "        vertical-align: top;\n",
       "    }\n",
       "\n",
       "    .dataframe thead th {\n",
       "        text-align: right;\n",
       "    }\n",
       "</style>\n",
       "<table border=\"1\" class=\"dataframe\">\n",
       "  <thead>\n",
       "    <tr style=\"text-align: right;\">\n",
       "      <th></th>\n",
       "      <th>Note</th>\n",
       "      <th>Date</th>\n",
       "      <th>Description</th>\n",
       "    </tr>\n",
       "  </thead>\n",
       "  <tbody>\n",
       "    <tr>\n",
       "      <th>0</th>\n",
       "      <td>2,5</td>\n",
       "      <td>Publiée le 3 octobre 2024</td>\n",
       "      <td>Confusion, frustration et colère se mélangent ...</td>\n",
       "    </tr>\n",
       "    <tr>\n",
       "      <th>1</th>\n",
       "      <td>1,5</td>\n",
       "      <td>Publiée le 2 octobre 2024</td>\n",
       "      <td>La sensation qu’on a voulu caser une comédie m...</td>\n",
       "    </tr>\n",
       "    <tr>\n",
       "      <th>2</th>\n",
       "      <td>1,0</td>\n",
       "      <td>Publiée le 3 octobre 2024</td>\n",
       "      <td>Une comédie musicale ? Oui, vous avez bien lu....</td>\n",
       "    </tr>\n",
       "    <tr>\n",
       "      <th>3</th>\n",
       "      <td>4,5</td>\n",
       "      <td>Publiée le 6 octobre 2024</td>\n",
       "      <td>Ceux qui avaient aimé le premier opus et qui n...</td>\n",
       "    </tr>\n",
       "    <tr>\n",
       "      <th>4</th>\n",
       "      <td>5,0</td>\n",
       "      <td>Publiée le 11 octobre 2024</td>\n",
       "      <td>\"Joker : Folie à Deux\", n'est pas un film que ...</td>\n",
       "    </tr>\n",
       "  </tbody>\n",
       "</table>\n",
       "</div>"
      ],
      "text/plain": [
       "  Note                        Date  \\\n",
       "0  2,5   Publiée le 3 octobre 2024   \n",
       "1  1,5   Publiée le 2 octobre 2024   \n",
       "2  1,0   Publiée le 3 octobre 2024   \n",
       "3  4,5   Publiée le 6 octobre 2024   \n",
       "4  5,0  Publiée le 11 octobre 2024   \n",
       "\n",
       "                                         Description  \n",
       "0  Confusion, frustration et colère se mélangent ...  \n",
       "1  La sensation qu’on a voulu caser une comédie m...  \n",
       "2  Une comédie musicale ? Oui, vous avez bien lu....  \n",
       "3  Ceux qui avaient aimé le premier opus et qui n...  \n",
       "4  \"Joker : Folie à Deux\", n'est pas un film que ...  "
      ]
     },
     "execution_count": 12,
     "metadata": {},
     "output_type": "execute_result"
    }
   ],
   "source": [
    "commentaires_spec = get_pages_comm(nb_pages, url_comm_spec)\n",
    "commentaires_spec.head()"
   ]
  },
  {
   "cell_type": "markdown",
   "metadata": {},
   "source": [
    "## Récupération des commentaires 'presse' du film \"....\""
   ]
  },
  {
   "cell_type": "code",
   "execution_count": 10,
   "metadata": {},
   "outputs": [],
   "source": [
    "# URL de la page et balises à récupérer \n",
    "url_presse = 'https://www.allocine.fr/film/fichefilm-278006/critiques/presse/'\n",
    "col = ['Commentaire', 'Auteur']\n",
    "balise = ['//p[@class=\"text\"]',\\\n",
    "          '//span[@class=\"author\"]' ]"
   ]
  },
  {
   "cell_type": "code",
   "execution_count": 13,
   "metadata": {},
   "outputs": [
    {
     "data": {
      "text/html": [
       "<div>\n",
       "<style scoped>\n",
       "    .dataframe tbody tr th:only-of-type {\n",
       "        vertical-align: middle;\n",
       "    }\n",
       "\n",
       "    .dataframe tbody tr th {\n",
       "        vertical-align: top;\n",
       "    }\n",
       "\n",
       "    .dataframe thead th {\n",
       "        text-align: right;\n",
       "    }\n",
       "</style>\n",
       "<table border=\"1\" class=\"dataframe\">\n",
       "  <thead>\n",
       "    <tr style=\"text-align: right;\">\n",
       "      <th></th>\n",
       "      <th>Commentaire</th>\n",
       "      <th>Auteur</th>\n",
       "    </tr>\n",
       "  </thead>\n",
       "  <tbody>\n",
       "    <tr>\n",
       "      <th>0</th>\n",
       "      <td>Lady Gaga et Joaquin Phoenix, deux archanges d...</td>\n",
       "      <td>par Nathalie Chifflet</td>\n",
       "    </tr>\n",
       "    <tr>\n",
       "      <th>1</th>\n",
       "      <td>Joaquin Phoenix est sublime, presque irréel, c...</td>\n",
       "      <td>par Nathalie Chifflet</td>\n",
       "    </tr>\n",
       "    <tr>\n",
       "      <th>2</th>\n",
       "      <td>À l’arrivée, c’est beau, grand, musical, sombr...</td>\n",
       "      <td>par Renaud Baronian</td>\n",
       "    </tr>\n",
       "    <tr>\n",
       "      <th>3</th>\n",
       "      <td>Le duo formé par Lady Gaga et Joaquin Phoenix ...</td>\n",
       "      <td>par Caroline Vié</td>\n",
       "    </tr>\n",
       "    <tr>\n",
       "      <th>4</th>\n",
       "      <td>Le lecteur aura compris que ce très étrange fi...</td>\n",
       "      <td>par Marcos Uzal</td>\n",
       "    </tr>\n",
       "  </tbody>\n",
       "</table>\n",
       "</div>"
      ],
      "text/plain": [
       "                                         Commentaire                 Auteur\n",
       "0  Lady Gaga et Joaquin Phoenix, deux archanges d...  par Nathalie Chifflet\n",
       "1  Joaquin Phoenix est sublime, presque irréel, c...  par Nathalie Chifflet\n",
       "2  À l’arrivée, c’est beau, grand, musical, sombr...    par Renaud Baronian\n",
       "3  Le duo formé par Lady Gaga et Joaquin Phoenix ...       par Caroline Vié\n",
       "4  Le lecteur aura compris que ce très étrange fi...        par Marcos Uzal"
      ]
     },
     "execution_count": 13,
     "metadata": {},
     "output_type": "execute_result"
    }
   ],
   "source": [
    "commentaires_presse = get_donnees(url_presse, balise, col)\n",
    "commentaires_presse.head()"
   ]
  }
 ],
 "metadata": {
  "kernelspec": {
   "display_name": "Python 3",
   "language": "python",
   "name": "python3"
  },
  "language_info": {
   "codemirror_mode": {
    "name": "ipython",
    "version": 3
   },
   "file_extension": ".py",
   "mimetype": "text/x-python",
   "name": "python",
   "nbconvert_exporter": "python",
   "pygments_lexer": "ipython3",
   "version": "3.11.9"
  }
 },
 "nbformat": 4,
 "nbformat_minor": 2
}
