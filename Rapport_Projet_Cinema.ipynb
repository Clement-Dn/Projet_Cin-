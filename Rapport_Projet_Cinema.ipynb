{
 "cells": [
  {
   "cell_type": "markdown",
   "metadata": {},
   "source": [
    "# Projet Notations de films "
   ]
  },
  {
   "cell_type": "markdown",
   "metadata": {},
   "source": [
    "Introduction, expliquer le contexte, démarche, objectif, etc ..................................\n",
    "\n",
    "Etudier les différents facteurs qui peuvent expliquer ou influencer les notes des spectateurs attribués à des films.\n",
    "\n",
    "\n",
    "  \n",
    "\n",
    "Le rapport se décompose de la manière suivante :   \n",
    "\n",
    "I - Création de la base de données\n",
    "\n",
    "1) Webscrapping du site Allocine\n",
    "\n",
    "\n",
    "\n",
    "II - Analyses descriptive des données\n",
    "\n",
    "1) \n",
    "\n",
    "\n",
    "2)\n",
    "\n",
    "\n",
    "3) \n",
    "\n",
    "\n",
    "III - "
   ]
  },
  {
   "cell_type": "markdown",
   "metadata": {},
   "source": [
    "### importation des librairies et fichiers"
   ]
  },
  {
   "cell_type": "code",
   "execution_count": 1,
   "metadata": {},
   "outputs": [
    {
     "name": "stdout",
     "output_type": "stream",
     "text": [
      "Requirement already satisfied: ipywidgets in /opt/conda/lib/python3.12/site-packages (8.1.5)\n",
      "Requirement already satisfied: comm>=0.1.3 in /opt/conda/lib/python3.12/site-packages (from ipywidgets) (0.2.2)\n",
      "Requirement already satisfied: ipython>=6.1.0 in /opt/conda/lib/python3.12/site-packages (from ipywidgets) (8.29.0)\n",
      "Requirement already satisfied: traitlets>=4.3.1 in /opt/conda/lib/python3.12/site-packages (from ipywidgets) (5.14.3)\n",
      "Requirement already satisfied: widgetsnbextension~=4.0.12 in /opt/conda/lib/python3.12/site-packages (from ipywidgets) (4.0.13)\n",
      "Requirement already satisfied: jupyterlab-widgets~=3.0.12 in /opt/conda/lib/python3.12/site-packages (from ipywidgets) (3.0.13)\n",
      "Requirement already satisfied: decorator in /opt/conda/lib/python3.12/site-packages (from ipython>=6.1.0->ipywidgets) (5.1.1)\n",
      "Requirement already satisfied: jedi>=0.16 in /opt/conda/lib/python3.12/site-packages (from ipython>=6.1.0->ipywidgets) (0.19.2)\n",
      "Requirement already satisfied: matplotlib-inline in /opt/conda/lib/python3.12/site-packages (from ipython>=6.1.0->ipywidgets) (0.1.7)\n",
      "Requirement already satisfied: prompt-toolkit<3.1.0,>=3.0.41 in /opt/conda/lib/python3.12/site-packages (from ipython>=6.1.0->ipywidgets) (3.0.48)\n",
      "Requirement already satisfied: pygments>=2.4.0 in /opt/conda/lib/python3.12/site-packages (from ipython>=6.1.0->ipywidgets) (2.18.0)\n",
      "Requirement already satisfied: stack-data in /opt/conda/lib/python3.12/site-packages (from ipython>=6.1.0->ipywidgets) (0.6.2)\n",
      "Requirement already satisfied: pexpect>4.3 in /opt/conda/lib/python3.12/site-packages (from ipython>=6.1.0->ipywidgets) (4.9.0)\n",
      "Requirement already satisfied: parso<0.9.0,>=0.8.4 in /opt/conda/lib/python3.12/site-packages (from jedi>=0.16->ipython>=6.1.0->ipywidgets) (0.8.4)\n",
      "Requirement already satisfied: ptyprocess>=0.5 in /opt/conda/lib/python3.12/site-packages (from pexpect>4.3->ipython>=6.1.0->ipywidgets) (0.7.0)\n",
      "Requirement already satisfied: wcwidth in /opt/conda/lib/python3.12/site-packages (from prompt-toolkit<3.1.0,>=3.0.41->ipython>=6.1.0->ipywidgets) (0.2.13)\n",
      "Requirement already satisfied: executing>=1.2.0 in /opt/conda/lib/python3.12/site-packages (from stack-data->ipython>=6.1.0->ipywidgets) (2.1.0)\n",
      "Requirement already satisfied: asttokens>=2.1.0 in /opt/conda/lib/python3.12/site-packages (from stack-data->ipython>=6.1.0->ipywidgets) (2.4.1)\n",
      "Requirement already satisfied: pure-eval in /opt/conda/lib/python3.12/site-packages (from stack-data->ipython>=6.1.0->ipywidgets) (0.2.3)\n",
      "Requirement already satisfied: six>=1.12.0 in /opt/conda/lib/python3.12/site-packages (from asttokens>=2.1.0->stack-data->ipython>=6.1.0->ipywidgets) (1.16.0)\n",
      "Requirement already satisfied: jupyterlab_widgets in /opt/conda/lib/python3.12/site-packages (3.0.13)\n",
      "usage: jupyter [-h] [--version] [--config-dir] [--data-dir] [--runtime-dir]\n",
      "               [--paths] [--json] [--debug]\n",
      "               [subcommand]\n",
      "\n",
      "Jupyter: Interactive Computing\n",
      "\n",
      "positional arguments:\n",
      "  subcommand     the subcommand to launch\n",
      "\n",
      "options:\n",
      "  -h, --help     show this help message and exit\n",
      "  --version      show the versions of core jupyter packages and exit\n",
      "  --config-dir   show Jupyter config dir\n",
      "  --data-dir     show Jupyter data dir\n",
      "  --runtime-dir  show Jupyter runtime dir\n",
      "  --paths        show all Jupyter paths. Add --json for machine-readable\n",
      "                 format.\n",
      "  --json         output paths as machine-readable json\n",
      "  --debug        output debug information about paths\n",
      "\n",
      "Available subcommands: kernel kernelspec migrate run troubleshoot\n",
      "\n",
      "Jupyter command `jupyter-nbextension` not found.\n",
      "Requirement already satisfied: lxml in /opt/conda/lib/python3.12/site-packages (5.3.0)\n",
      "Requirement already satisfied: aiohttp in /opt/conda/lib/python3.12/site-packages (3.10.10)\n",
      "Requirement already satisfied: aiohappyeyeballs>=2.3.0 in /opt/conda/lib/python3.12/site-packages (from aiohttp) (2.4.3)\n",
      "Requirement already satisfied: aiosignal>=1.1.2 in /opt/conda/lib/python3.12/site-packages (from aiohttp) (1.3.1)\n",
      "Requirement already satisfied: attrs>=17.3.0 in /opt/conda/lib/python3.12/site-packages (from aiohttp) (24.2.0)\n",
      "Requirement already satisfied: frozenlist>=1.1.1 in /opt/conda/lib/python3.12/site-packages (from aiohttp) (1.5.0)\n",
      "Requirement already satisfied: multidict<7.0,>=4.5 in /opt/conda/lib/python3.12/site-packages (from aiohttp) (6.1.0)\n",
      "Requirement already satisfied: yarl<2.0,>=1.12.0 in /opt/conda/lib/python3.12/site-packages (from aiohttp) (1.16.0)\n",
      "Requirement already satisfied: idna>=2.0 in /opt/conda/lib/python3.12/site-packages (from yarl<2.0,>=1.12.0->aiohttp) (3.10)\n",
      "Requirement already satisfied: propcache>=0.2.0 in /opt/conda/lib/python3.12/site-packages (from yarl<2.0,>=1.12.0->aiohttp) (0.2.0)\n",
      "Requirement already satisfied: nest_asyncio in /opt/conda/lib/python3.12/site-packages (1.6.0)\n"
     ]
    }
   ],
   "source": [
    "# Comment les inclure ? Faire condition pour voir si déjà installé ?\n",
    "!pip install ipywidgets\n",
    "!pip install jupyterlab_widgets\n",
    "!jupyter nbextension enable --py widgetsnbextension\n",
    "!pip install lxml\n",
    "!pip install aiohttp\n",
    "!pip install nest_asyncio\n",
    "\n",
    "import asyncio\n",
    "import aiohttp\n",
    "import pandas as pd\n",
    "from bs4 import BeautifulSoup\n",
    "import re\n",
    "import nest_asyncio\n"
   ]
  },
  {
   "cell_type": "code",
   "execution_count": 2,
   "metadata": {},
   "outputs": [],
   "source": [
    "# Importation des librairies\n",
    "\n",
    "# import seaborn as sns #pas besoin si utilise fonctions\n",
    "import matplotlib.pyplot as plt\n",
    "\n",
    "# Regression\n",
    "import statsmodels.api as sm\n",
    "from statsmodels.formula.api import rlm "
   ]
  },
  {
   "cell_type": "code",
   "execution_count": 3,
   "metadata": {},
   "outputs": [],
   "source": [
    "import os\n",
    "\n",
    "# Importation des fichiers python (contenant des fonctions) crées dans le cadre des 3 parties du projet :\n",
    "\n",
    "for f in os.listdir('A_Base_de_données'):\n",
    "    if f.endswith('.py'):\n",
    "        module_name = os.path.splitext(f)[0]\n",
    "        exec(f\"from A_Base_de_données.{module_name} import *\")\n",
    "\n",
    "\n",
    "for f in os.listdir('B_Analyse_descriptive'):\n",
    "    if f.endswith('.py'):\n",
    "        module_name = os.path.splitext(f)[0]\n",
    "        exec(f\"from B_Analyse_descriptive.{module_name} import *\")\n",
    "\n",
    "\n",
    "for f in os.listdir('C_Modele'):\n",
    "    if f.endswith('.py'):\n",
    "        module_name = os.path.splitext(f)[0]\n",
    "        exec(f\"from C_Modele.{module_name} import *\")\n"
   ]
  },
  {
   "cell_type": "markdown",
   "metadata": {},
   "source": [
    "## I - Création de la base de données"
   ]
  },
  {
   "cell_type": "markdown",
   "metadata": {},
   "source": [
    "### Webscrapping AlloCiné"
   ]
  },
  {
   "cell_type": "code",
   "execution_count": 4,
   "metadata": {},
   "outputs": [
    {
     "name": "stdout",
     "output_type": "stream",
     "text": [
      "nombre de films récupérés :  491\n"
     ]
    }
   ],
   "source": [
    "# Récupération d'une liste de films qui possèdent tous une note moyenne de spectateur et une note moyenn de presse entre l'année .... et l'année .....\n",
    "base_films = get_base_films(2010, 2010)\n",
    "\n",
    "\n",
    "# Récupération pour chaque film de différentes caractériques\n",
    "nest_asyncio.apply()\n",
    "base_films_enrichie = get_carac_film(base_films)\n"
   ]
  },
  {
   "cell_type": "code",
   "execution_count": 28,
   "metadata": {},
   "outputs": [
    {
     "data": {
      "text/html": [
       "<div>\n",
       "<style scoped>\n",
       "    .dataframe tbody tr th:only-of-type {\n",
       "        vertical-align: middle;\n",
       "    }\n",
       "\n",
       "    .dataframe tbody tr th {\n",
       "        vertical-align: top;\n",
       "    }\n",
       "\n",
       "    .dataframe thead th {\n",
       "        text-align: right;\n",
       "    }\n",
       "</style>\n",
       "<table border=\"1\" class=\"dataframe\">\n",
       "  <thead>\n",
       "    <tr style=\"text-align: right;\">\n",
       "      <th></th>\n",
       "      <th>titre</th>\n",
       "      <th>identifiant</th>\n",
       "      <th>date</th>\n",
       "      <th>durée</th>\n",
       "      <th>auteur</th>\n",
       "      <th>spectateur</th>\n",
       "      <th>presse</th>\n",
       "      <th>genre1</th>\n",
       "      <th>genre2</th>\n",
       "      <th>genre3</th>\n",
       "      <th>...</th>\n",
       "      <th>date_sortie_vod</th>\n",
       "      <th>type_film</th>\n",
       "      <th>budget</th>\n",
       "      <th>langues</th>\n",
       "      <th>format_production</th>\n",
       "      <th>couleur</th>\n",
       "      <th>format_audio</th>\n",
       "      <th>format_projection</th>\n",
       "      <th>num_visa</th>\n",
       "      <th>prenom</th>\n",
       "    </tr>\n",
       "  </thead>\n",
       "  <tbody>\n",
       "    <tr>\n",
       "      <th>0</th>\n",
       "      <td>Rien à déclarer</td>\n",
       "      <td>173528</td>\n",
       "      <td>26 janvier 2011</td>\n",
       "      <td>1h 48min</td>\n",
       "      <td>Dany Boon</td>\n",
       "      <td>2,4</td>\n",
       "      <td>2,2</td>\n",
       "      <td>Comédie</td>\n",
       "      <td></td>\n",
       "      <td></td>\n",
       "      <td>...</td>\n",
       "      <td>15/06/2011</td>\n",
       "      <td>Long métrage</td>\n",
       "      <td>-</td>\n",
       "      <td>Flamand, Français</td>\n",
       "      <td>-</td>\n",
       "      <td>Couleur</td>\n",
       "      <td>-</td>\n",
       "      <td>-</td>\n",
       "      <td>125668</td>\n",
       "      <td>dany</td>\n",
       "    </tr>\n",
       "    <tr>\n",
       "      <th>1</th>\n",
       "      <td>Les petits mouchoirs</td>\n",
       "      <td>146632</td>\n",
       "      <td>20 octobre 2010</td>\n",
       "      <td>2h 34min</td>\n",
       "      <td>Guillaume Canet</td>\n",
       "      <td>3,6</td>\n",
       "      <td>2,9</td>\n",
       "      <td>Comédie dramatique</td>\n",
       "      <td></td>\n",
       "      <td></td>\n",
       "      <td>...</td>\n",
       "      <td>01/03/2016</td>\n",
       "      <td>Long métrage</td>\n",
       "      <td>17 000 000 EUR</td>\n",
       "      <td>Français</td>\n",
       "      <td>-</td>\n",
       "      <td>Couleur</td>\n",
       "      <td>-</td>\n",
       "      <td>-</td>\n",
       "      <td>121898</td>\n",
       "      <td>guillaume</td>\n",
       "    </tr>\n",
       "    <tr>\n",
       "      <th>2</th>\n",
       "      <td>L'Agence tous risques</td>\n",
       "      <td>133588</td>\n",
       "      <td>16 juin 2010</td>\n",
       "      <td>1h 54min</td>\n",
       "      <td>Joe Carnahan</td>\n",
       "      <td>3,2</td>\n",
       "      <td>3,2</td>\n",
       "      <td>Action</td>\n",
       "      <td>Comédie</td>\n",
       "      <td></td>\n",
       "      <td>...</td>\n",
       "      <td>01/06/2015</td>\n",
       "      <td>Long métrage</td>\n",
       "      <td>110 000 000 USD</td>\n",
       "      <td>Anglais, Français, Espagnol, Swahili</td>\n",
       "      <td>-</td>\n",
       "      <td>Couleur</td>\n",
       "      <td>-</td>\n",
       "      <td>-</td>\n",
       "      <td>-</td>\n",
       "      <td>joe</td>\n",
       "    </tr>\n",
       "    <tr>\n",
       "      <th>3</th>\n",
       "      <td>Shutter Island</td>\n",
       "      <td>132039</td>\n",
       "      <td>24 février 2010</td>\n",
       "      <td>2h 17min</td>\n",
       "      <td>Martin Scorsese</td>\n",
       "      <td>4,4</td>\n",
       "      <td>3,8</td>\n",
       "      <td>Thriller</td>\n",
       "      <td></td>\n",
       "      <td></td>\n",
       "      <td>...</td>\n",
       "      <td>15/10/2017</td>\n",
       "      <td>Long métrage</td>\n",
       "      <td>80 000 000 USD</td>\n",
       "      <td>Anglais, Allemand</td>\n",
       "      <td>-</td>\n",
       "      <td>Couleur</td>\n",
       "      <td>-</td>\n",
       "      <td>-</td>\n",
       "      <td>124145</td>\n",
       "      <td>martin</td>\n",
       "    </tr>\n",
       "    <tr>\n",
       "      <th>4</th>\n",
       "      <td>Incendies</td>\n",
       "      <td>179349</td>\n",
       "      <td>12 janvier 2011</td>\n",
       "      <td>2h 03min</td>\n",
       "      <td>Denis Villeneuve</td>\n",
       "      <td>4,3</td>\n",
       "      <td>3,8</td>\n",
       "      <td>Drame</td>\n",
       "      <td></td>\n",
       "      <td></td>\n",
       "      <td>...</td>\n",
       "      <td>12/05/2011</td>\n",
       "      <td>Long métrage</td>\n",
       "      <td>-</td>\n",
       "      <td>ARABIC, Français</td>\n",
       "      <td>-</td>\n",
       "      <td>Couleur</td>\n",
       "      <td>-</td>\n",
       "      <td>-</td>\n",
       "      <td>128172</td>\n",
       "      <td>denis</td>\n",
       "    </tr>\n",
       "  </tbody>\n",
       "</table>\n",
       "<p>5 rows × 24 columns</p>\n",
       "</div>"
      ],
      "text/plain": [
       "                   titre identifiant             date     durée  \\\n",
       "0        Rien à déclarer      173528  26 janvier 2011  1h 48min   \n",
       "1   Les petits mouchoirs      146632  20 octobre 2010  2h 34min   \n",
       "2  L'Agence tous risques      133588     16 juin 2010  1h 54min   \n",
       "3         Shutter Island      132039  24 février 2010  2h 17min   \n",
       "4              Incendies      179349  12 janvier 2011  2h 03min   \n",
       "\n",
       "             auteur spectateur presse              genre1   genre2 genre3  \\\n",
       "0         Dany Boon        2,4    2,2             Comédie                   \n",
       "1   Guillaume Canet        3,6    2,9  Comédie dramatique                   \n",
       "2      Joe Carnahan        3,2    3,2              Action  Comédie          \n",
       "3   Martin Scorsese        4,4    3,8            Thriller                   \n",
       "4  Denis Villeneuve        4,3    3,8               Drame                   \n",
       "\n",
       "   ... date_sortie_vod     type_film           budget  \\\n",
       "0  ...      15/06/2011  Long métrage                -   \n",
       "1  ...      01/03/2016  Long métrage   17 000 000 EUR   \n",
       "2  ...      01/06/2015  Long métrage  110 000 000 USD   \n",
       "3  ...      15/10/2017  Long métrage   80 000 000 USD   \n",
       "4  ...      12/05/2011  Long métrage                -   \n",
       "\n",
       "                                langues format_production  couleur  \\\n",
       "0                     Flamand, Français                 -  Couleur   \n",
       "1                              Français                 -  Couleur   \n",
       "2  Anglais, Français, Espagnol, Swahili                 -  Couleur   \n",
       "3                     Anglais, Allemand                 -  Couleur   \n",
       "4                      ARABIC, Français                 -  Couleur   \n",
       "\n",
       "  format_audio format_projection num_visa     prenom  \n",
       "0            -                 -   125668       dany  \n",
       "1            -                 -   121898  guillaume  \n",
       "2            -                 -        -        joe  \n",
       "3            -                 -   124145     martin  \n",
       "4            -                 -   128172      denis  \n",
       "\n",
       "[5 rows x 24 columns]"
      ]
     },
     "execution_count": 28,
     "metadata": {},
     "output_type": "execute_result"
    }
   ],
   "source": [
    "base_films_enrichie.head()"
   ]
  },
  {
   "cell_type": "code",
   "execution_count": null,
   "metadata": {},
   "outputs": [],
   "source": [
    "# Exportation en CSV => mettre en commentaire lors du rendu afin que cela soit toujours le même CSV qui soit utilisé par la suite\n",
    "\n",
    "\n"
   ]
  },
  {
   "cell_type": "markdown",
   "metadata": {},
   "source": [
    "### Traitement, Ajout et création de variables"
   ]
  },
  {
   "cell_type": "code",
   "execution_count": null,
   "metadata": {},
   "outputs": [],
   "source": [
    "# Lecture du CSV\n"
   ]
  },
  {
   "cell_type": "code",
   "execution_count": 11,
   "metadata": {},
   "outputs": [
    {
     "data": {
      "text/plain": [
       "genre_ind\n",
       "m      315\n",
       "f       36\n",
       "m,f     15\n",
       "f,m      3\n",
       "Name: count, dtype: int64"
      ]
     },
     "execution_count": 11,
     "metadata": {},
     "output_type": "execute_result"
    }
   ],
   "source": [
    "# Ajout du genre des réalisateurs\n",
    "table_avec_genre = get_genre_individuel(base_films_enrichie, 'auteur')\n",
    "\n",
    "# Aperçu du nb de réalisateurs m vs f\n",
    "table_avec_genre['genre_ind'].value_counts()\n"
   ]
  },
  {
   "cell_type": "code",
   "execution_count": 12,
   "metadata": {},
   "outputs": [
    {
     "data": {
      "text/html": [
       "<div>\n",
       "<style scoped>\n",
       "    .dataframe tbody tr th:only-of-type {\n",
       "        vertical-align: middle;\n",
       "    }\n",
       "\n",
       "    .dataframe tbody tr th {\n",
       "        vertical-align: top;\n",
       "    }\n",
       "\n",
       "    .dataframe thead th {\n",
       "        text-align: right;\n",
       "    }\n",
       "</style>\n",
       "<table border=\"1\" class=\"dataframe\">\n",
       "  <thead>\n",
       "    <tr style=\"text-align: right;\">\n",
       "      <th></th>\n",
       "      <th>genre_ind</th>\n",
       "      <th>titre</th>\n",
       "      <th>identifiant</th>\n",
       "      <th>date</th>\n",
       "      <th>durée</th>\n",
       "      <th>auteur</th>\n",
       "      <th>spectateur</th>\n",
       "      <th>presse</th>\n",
       "      <th>genre1</th>\n",
       "      <th>genre2</th>\n",
       "      <th>...</th>\n",
       "      <th>date_sortie_bluray</th>\n",
       "      <th>date_sortie_vod</th>\n",
       "      <th>type_film</th>\n",
       "      <th>budget</th>\n",
       "      <th>langues</th>\n",
       "      <th>format_production</th>\n",
       "      <th>couleur</th>\n",
       "      <th>format_audio</th>\n",
       "      <th>format_projection</th>\n",
       "      <th>num_visa</th>\n",
       "    </tr>\n",
       "  </thead>\n",
       "  <tbody>\n",
       "    <tr>\n",
       "      <th>0</th>\n",
       "      <td>m</td>\n",
       "      <td>Very Bad Cops</td>\n",
       "      <td>144195</td>\n",
       "      <td>27 octobre 2010</td>\n",
       "      <td>1h 47min</td>\n",
       "      <td>Adam McKay</td>\n",
       "      <td>2,5</td>\n",
       "      <td>3,3</td>\n",
       "      <td>Action</td>\n",
       "      <td>Comédie</td>\n",
       "      <td>...</td>\n",
       "      <td>-</td>\n",
       "      <td>01/01/2015</td>\n",
       "      <td>Long métrage</td>\n",
       "      <td>100 000 000 USD</td>\n",
       "      <td>Anglais</td>\n",
       "      <td>-</td>\n",
       "      <td>Couleur</td>\n",
       "      <td>-</td>\n",
       "      <td>-</td>\n",
       "      <td>126348</td>\n",
       "    </tr>\n",
       "    <tr>\n",
       "      <th>1</th>\n",
       "      <td>f</td>\n",
       "      <td>Adrienn Pàl</td>\n",
       "      <td>130423</td>\n",
       "      <td>25 juillet 2012</td>\n",
       "      <td>2h 16min</td>\n",
       "      <td>Agnes Kocsis</td>\n",
       "      <td>2,6</td>\n",
       "      <td>3,6</td>\n",
       "      <td>Drame</td>\n",
       "      <td></td>\n",
       "      <td>...</td>\n",
       "      <td>-</td>\n",
       "      <td>-</td>\n",
       "      <td>Long métrage</td>\n",
       "      <td>-</td>\n",
       "      <td>Hongrois</td>\n",
       "      <td>-</td>\n",
       "      <td>Couleur</td>\n",
       "      <td>-</td>\n",
       "      <td>-</td>\n",
       "      <td>122485</td>\n",
       "    </tr>\n",
       "    <tr>\n",
       "      <th>2</th>\n",
       "      <td>m</td>\n",
       "      <td>Une vie de chat</td>\n",
       "      <td>125119</td>\n",
       "      <td>15 décembre 2010</td>\n",
       "      <td>1h 10min</td>\n",
       "      <td>Alain Gagnol</td>\n",
       "      <td>3,8</td>\n",
       "      <td>3,6</td>\n",
       "      <td>Animation</td>\n",
       "      <td>Policier</td>\n",
       "      <td>...</td>\n",
       "      <td>-</td>\n",
       "      <td>20/04/2011</td>\n",
       "      <td>Long métrage</td>\n",
       "      <td>-</td>\n",
       "      <td>Français</td>\n",
       "      <td>-</td>\n",
       "      <td>Couleur</td>\n",
       "      <td>-</td>\n",
       "      <td>-</td>\n",
       "      <td>113566</td>\n",
       "    </tr>\n",
       "    <tr>\n",
       "      <th>3</th>\n",
       "      <td>m</td>\n",
       "      <td>Le Plan B</td>\n",
       "      <td>141699</td>\n",
       "      <td>19 mai 2010</td>\n",
       "      <td>1h 47min</td>\n",
       "      <td>Alan Poul</td>\n",
       "      <td>2,4</td>\n",
       "      <td>2,2</td>\n",
       "      <td>Comédie</td>\n",
       "      <td>Romance</td>\n",
       "      <td>...</td>\n",
       "      <td>-</td>\n",
       "      <td>07/04/2020</td>\n",
       "      <td>Long métrage</td>\n",
       "      <td>35 000 000 USD</td>\n",
       "      <td>Anglais</td>\n",
       "      <td>-</td>\n",
       "      <td>Couleur</td>\n",
       "      <td>-</td>\n",
       "      <td>-</td>\n",
       "      <td>125992</td>\n",
       "    </tr>\n",
       "    <tr>\n",
       "      <th>4</th>\n",
       "      <td>m</td>\n",
       "      <td>Le Livre d'Eli</td>\n",
       "      <td>128955</td>\n",
       "      <td>20 janvier 2010</td>\n",
       "      <td>1h 49min</td>\n",
       "      <td>Albert Hughes</td>\n",
       "      <td>3,3</td>\n",
       "      <td>2,4</td>\n",
       "      <td>Science Fiction</td>\n",
       "      <td></td>\n",
       "      <td>...</td>\n",
       "      <td>26/05/2010</td>\n",
       "      <td>01/10/2021</td>\n",
       "      <td>Long métrage</td>\n",
       "      <td>80 000 000 USD</td>\n",
       "      <td>Anglais</td>\n",
       "      <td>-</td>\n",
       "      <td>Couleur</td>\n",
       "      <td>-</td>\n",
       "      <td>-</td>\n",
       "      <td>-</td>\n",
       "    </tr>\n",
       "  </tbody>\n",
       "</table>\n",
       "<p>5 rows × 24 columns</p>\n",
       "</div>"
      ],
      "text/plain": [
       "  genre_ind            titre identifiant              date     durée  \\\n",
       "0         m    Very Bad Cops      144195   27 octobre 2010  1h 47min   \n",
       "1         f      Adrienn Pàl      130423   25 juillet 2012  2h 16min   \n",
       "2         m  Une vie de chat      125119  15 décembre 2010  1h 10min   \n",
       "3         m        Le Plan B      141699       19 mai 2010  1h 47min   \n",
       "4         m   Le Livre d'Eli      128955   20 janvier 2010  1h 49min   \n",
       "\n",
       "          auteur spectateur presse           genre1    genre2  ...  \\\n",
       "0     Adam McKay        2,5    3,3           Action   Comédie  ...   \n",
       "1   Agnes Kocsis        2,6    3,6            Drame            ...   \n",
       "2   Alain Gagnol        3,8    3,6        Animation  Policier  ...   \n",
       "3      Alan Poul        2,4    2,2          Comédie   Romance  ...   \n",
       "4  Albert Hughes        3,3    2,4  Science Fiction            ...   \n",
       "\n",
       "  date_sortie_bluray date_sortie_vod     type_film           budget   langues  \\\n",
       "0                  -      01/01/2015  Long métrage  100 000 000 USD   Anglais   \n",
       "1                  -               -  Long métrage                -  Hongrois   \n",
       "2                  -      20/04/2011  Long métrage                -  Français   \n",
       "3                  -      07/04/2020  Long métrage   35 000 000 USD   Anglais   \n",
       "4         26/05/2010      01/10/2021  Long métrage   80 000 000 USD   Anglais   \n",
       "\n",
       "  format_production  couleur format_audio format_projection num_visa  \n",
       "0                 -  Couleur            -                 -   126348  \n",
       "1                 -  Couleur            -                 -   122485  \n",
       "2                 -  Couleur            -                 -   113566  \n",
       "3                 -  Couleur            -                 -   125992  \n",
       "4                 -  Couleur            -                 -        -  \n",
       "\n",
       "[5 rows x 24 columns]"
      ]
     },
     "execution_count": 12,
     "metadata": {},
     "output_type": "execute_result"
    }
   ],
   "source": [
    "table_avec_genre.head()"
   ]
  },
  {
   "cell_type": "code",
   "execution_count": null,
   "metadata": {},
   "outputs": [],
   "source": [
    "# traitement du formalisme des visas\n",
    "table_avec_genre['num_visa'] = table_avec_genre['num_visa'].str.replace(' ', '')\n"
   ]
  },
  {
   "cell_type": "code",
   "execution_count": 13,
   "metadata": {},
   "outputs": [
    {
     "name": "stdout",
     "output_type": "stream",
     "text": [
      "nombre de films pris en compte : 369\n"
     ]
    }
   ],
   "source": [
    "# Transformation des types de films en variables dummy \n",
    "dummies1 = pd.get_dummies(table_avec_genre['genre1'], prefix='genre')\n",
    "dummies2 = pd.get_dummies(table_avec_genre['genre2'], prefix='genre')\n",
    "dummies3 = pd.get_dummies(table_avec_genre['genre3'], prefix='genre')\n",
    "\n",
    "dummies1 = dummies1.astype(int)\n",
    "dummies2 = dummies2.astype(int)\n",
    "dummies3 = dummies3.astype(int)\n",
    "\n",
    "dummies_sum = dummies1.add(dummies2, fill_value=0).add(dummies3, fill_value=0)\n",
    "dummies_sum = dummies_sum.drop(columns=['genre_'])\n",
    "\n",
    "df = pd.concat([table_avec_genre, dummies_sum], axis=1)\n",
    "print('nombre de films pris en compte :', len(df))"
   ]
  },
  {
   "cell_type": "code",
   "execution_count": 14,
   "metadata": {},
   "outputs": [],
   "source": [
    "# Conversion des notes en décimale\n",
    "table_avec_genre['spectateur'] = table_avec_genre['spectateur'].apply(mise_en_forme_decimale)\n",
    "table_avec_genre['presse'] = table_avec_genre['presse'].apply(mise_en_forme_decimale)"
   ]
  },
  {
   "cell_type": "code",
   "execution_count": 15,
   "metadata": {},
   "outputs": [
    {
     "data": {
      "text/html": [
       "<div>\n",
       "<style scoped>\n",
       "    .dataframe tbody tr th:only-of-type {\n",
       "        vertical-align: middle;\n",
       "    }\n",
       "\n",
       "    .dataframe tbody tr th {\n",
       "        vertical-align: top;\n",
       "    }\n",
       "\n",
       "    .dataframe thead th {\n",
       "        text-align: right;\n",
       "    }\n",
       "</style>\n",
       "<table border=\"1\" class=\"dataframe\">\n",
       "  <thead>\n",
       "    <tr style=\"text-align: right;\">\n",
       "      <th></th>\n",
       "      <th>genre_ind</th>\n",
       "      <th>titre</th>\n",
       "      <th>identifiant</th>\n",
       "      <th>date</th>\n",
       "      <th>durée</th>\n",
       "      <th>auteur</th>\n",
       "      <th>spectateur</th>\n",
       "      <th>presse</th>\n",
       "      <th>genre1</th>\n",
       "      <th>genre2</th>\n",
       "      <th>...</th>\n",
       "      <th>date_sortie_vod</th>\n",
       "      <th>type_film</th>\n",
       "      <th>budget</th>\n",
       "      <th>langues</th>\n",
       "      <th>format_production</th>\n",
       "      <th>couleur</th>\n",
       "      <th>format_audio</th>\n",
       "      <th>format_projection</th>\n",
       "      <th>num_visa</th>\n",
       "      <th>diff_notation</th>\n",
       "    </tr>\n",
       "  </thead>\n",
       "  <tbody>\n",
       "    <tr>\n",
       "      <th>0</th>\n",
       "      <td>m</td>\n",
       "      <td>Very Bad Cops</td>\n",
       "      <td>144195</td>\n",
       "      <td>27 octobre 2010</td>\n",
       "      <td>1h 47min</td>\n",
       "      <td>Adam McKay</td>\n",
       "      <td>2.5</td>\n",
       "      <td>3.3</td>\n",
       "      <td>Action</td>\n",
       "      <td>Comédie</td>\n",
       "      <td>...</td>\n",
       "      <td>01/01/2015</td>\n",
       "      <td>Long métrage</td>\n",
       "      <td>100 000 000 USD</td>\n",
       "      <td>Anglais</td>\n",
       "      <td>-</td>\n",
       "      <td>Couleur</td>\n",
       "      <td>-</td>\n",
       "      <td>-</td>\n",
       "      <td>126348</td>\n",
       "      <td>-0.8</td>\n",
       "    </tr>\n",
       "    <tr>\n",
       "      <th>1</th>\n",
       "      <td>f</td>\n",
       "      <td>Adrienn Pàl</td>\n",
       "      <td>130423</td>\n",
       "      <td>25 juillet 2012</td>\n",
       "      <td>2h 16min</td>\n",
       "      <td>Agnes Kocsis</td>\n",
       "      <td>2.6</td>\n",
       "      <td>3.6</td>\n",
       "      <td>Drame</td>\n",
       "      <td></td>\n",
       "      <td>...</td>\n",
       "      <td>-</td>\n",
       "      <td>Long métrage</td>\n",
       "      <td>-</td>\n",
       "      <td>Hongrois</td>\n",
       "      <td>-</td>\n",
       "      <td>Couleur</td>\n",
       "      <td>-</td>\n",
       "      <td>-</td>\n",
       "      <td>122485</td>\n",
       "      <td>-1.0</td>\n",
       "    </tr>\n",
       "    <tr>\n",
       "      <th>2</th>\n",
       "      <td>m</td>\n",
       "      <td>Une vie de chat</td>\n",
       "      <td>125119</td>\n",
       "      <td>15 décembre 2010</td>\n",
       "      <td>1h 10min</td>\n",
       "      <td>Alain Gagnol</td>\n",
       "      <td>3.8</td>\n",
       "      <td>3.6</td>\n",
       "      <td>Animation</td>\n",
       "      <td>Policier</td>\n",
       "      <td>...</td>\n",
       "      <td>20/04/2011</td>\n",
       "      <td>Long métrage</td>\n",
       "      <td>-</td>\n",
       "      <td>Français</td>\n",
       "      <td>-</td>\n",
       "      <td>Couleur</td>\n",
       "      <td>-</td>\n",
       "      <td>-</td>\n",
       "      <td>113566</td>\n",
       "      <td>0.2</td>\n",
       "    </tr>\n",
       "    <tr>\n",
       "      <th>3</th>\n",
       "      <td>m</td>\n",
       "      <td>Le Plan B</td>\n",
       "      <td>141699</td>\n",
       "      <td>19 mai 2010</td>\n",
       "      <td>1h 47min</td>\n",
       "      <td>Alan Poul</td>\n",
       "      <td>2.4</td>\n",
       "      <td>2.2</td>\n",
       "      <td>Comédie</td>\n",
       "      <td>Romance</td>\n",
       "      <td>...</td>\n",
       "      <td>07/04/2020</td>\n",
       "      <td>Long métrage</td>\n",
       "      <td>35 000 000 USD</td>\n",
       "      <td>Anglais</td>\n",
       "      <td>-</td>\n",
       "      <td>Couleur</td>\n",
       "      <td>-</td>\n",
       "      <td>-</td>\n",
       "      <td>125992</td>\n",
       "      <td>0.2</td>\n",
       "    </tr>\n",
       "    <tr>\n",
       "      <th>4</th>\n",
       "      <td>m</td>\n",
       "      <td>Le Livre d'Eli</td>\n",
       "      <td>128955</td>\n",
       "      <td>20 janvier 2010</td>\n",
       "      <td>1h 49min</td>\n",
       "      <td>Albert Hughes</td>\n",
       "      <td>3.3</td>\n",
       "      <td>2.4</td>\n",
       "      <td>Science Fiction</td>\n",
       "      <td></td>\n",
       "      <td>...</td>\n",
       "      <td>01/10/2021</td>\n",
       "      <td>Long métrage</td>\n",
       "      <td>80 000 000 USD</td>\n",
       "      <td>Anglais</td>\n",
       "      <td>-</td>\n",
       "      <td>Couleur</td>\n",
       "      <td>-</td>\n",
       "      <td>-</td>\n",
       "      <td>-</td>\n",
       "      <td>0.9</td>\n",
       "    </tr>\n",
       "  </tbody>\n",
       "</table>\n",
       "<p>5 rows × 25 columns</p>\n",
       "</div>"
      ],
      "text/plain": [
       "  genre_ind            titre identifiant              date     durée  \\\n",
       "0         m    Very Bad Cops      144195   27 octobre 2010  1h 47min   \n",
       "1         f      Adrienn Pàl      130423   25 juillet 2012  2h 16min   \n",
       "2         m  Une vie de chat      125119  15 décembre 2010  1h 10min   \n",
       "3         m        Le Plan B      141699       19 mai 2010  1h 47min   \n",
       "4         m   Le Livre d'Eli      128955   20 janvier 2010  1h 49min   \n",
       "\n",
       "          auteur  spectateur  presse           genre1    genre2  ...  \\\n",
       "0     Adam McKay         2.5     3.3           Action   Comédie  ...   \n",
       "1   Agnes Kocsis         2.6     3.6            Drame            ...   \n",
       "2   Alain Gagnol         3.8     3.6        Animation  Policier  ...   \n",
       "3      Alan Poul         2.4     2.2          Comédie   Romance  ...   \n",
       "4  Albert Hughes         3.3     2.4  Science Fiction            ...   \n",
       "\n",
       "  date_sortie_vod     type_film           budget   langues format_production  \\\n",
       "0      01/01/2015  Long métrage  100 000 000 USD   Anglais                 -   \n",
       "1               -  Long métrage                -  Hongrois                 -   \n",
       "2      20/04/2011  Long métrage                -  Français                 -   \n",
       "3      07/04/2020  Long métrage   35 000 000 USD   Anglais                 -   \n",
       "4      01/10/2021  Long métrage   80 000 000 USD   Anglais                 -   \n",
       "\n",
       "   couleur format_audio format_projection num_visa diff_notation  \n",
       "0  Couleur            -                 -   126348          -0.8  \n",
       "1  Couleur            -                 -   122485          -1.0  \n",
       "2  Couleur            -                 -   113566           0.2  \n",
       "3  Couleur            -                 -   125992           0.2  \n",
       "4  Couleur            -                 -        -           0.9  \n",
       "\n",
       "[5 rows x 25 columns]"
      ]
     },
     "execution_count": 15,
     "metadata": {},
     "output_type": "execute_result"
    }
   ],
   "source": [
    "# Création variable : différence de notation entre spectateur et presse\n",
    "table_avec_genre['diff_notation'] = table_avec_genre['spectateur']-table_avec_genre['presse']\n",
    "table_avec_genre.head()\n"
   ]
  },
  {
   "cell_type": "code",
   "execution_count": null,
   "metadata": {},
   "outputs": [],
   "source": [
    "# récuparation de l'année\n",
    "table_avec_genre = get_annee(table_avec_genre, 'date')"
   ]
  },
  {
   "cell_type": "code",
   "execution_count": 17,
   "metadata": {},
   "outputs": [],
   "source": [
    "# Conversion de la durée en minutes\n",
    "table_avec_genre['durée'] = table_avec_genre['durée'].astype('string')\n",
    "table_avec_genre['duree_min'] = table_avec_genre['durée'].apply(duree_en_minutes)"
   ]
  },
  {
   "cell_type": "markdown",
   "metadata": {},
   "source": [
    "## II -  Analyse descriptive"
   ]
  },
  {
   "cell_type": "markdown",
   "metadata": {},
   "source": [
    " QUELS AXES CHOISIR ? \n",
    " - Analyse générales \n",
    " - différence presse vs spec \n",
    " - genre du réalisateur et budget alloué \n",
    " - .....\n",
    "  "
   ]
  },
  {
   "cell_type": "markdown",
   "metadata": {},
   "source": [
    "### Généralités"
   ]
  },
  {
   "cell_type": "code",
   "execution_count": null,
   "metadata": {},
   "outputs": [
    {
     "data": {
      "application/vnd.jupyter.widget-view+json": {
       "model_id": "9ef90ec4597c40c5bf6470b398401cda",
       "version_major": 2,
       "version_minor": 0
      },
      "text/plain": [
       "Dropdown(description='Genre 1 :', index=6, options=('Drame', 'Comédie', 'Comédie dramatique', 'Action', 'Avent…"
      ]
     },
     "metadata": {},
     "output_type": "display_data"
    },
    {
     "data": {
      "application/vnd.jupyter.widget-view+json": {
       "model_id": "42290130eb604cc2a56e71aecbd045d0",
       "version_major": 2,
       "version_minor": 0
      },
      "text/plain": [
       "Dropdown(description='Genre 2 :', index=3, options=('Drame', 'Comédie', 'Comédie dramatique', 'Action', 'Avent…"
      ]
     },
     "metadata": {},
     "output_type": "display_data"
    },
    {
     "data": {
      "image/png": "[encoded data removed]",
      "text/plain": [
       "<Figure size 800x600 with 1 Axes>"
      ]
     },
     "metadata": {},
     "output_type": "display_data"
    }
   ],
   "source": [
    "graphique_genre_film(table_avec_genre)  "
   ]
  },
  {
   "cell_type": "code",
   "execution_count": 33,
   "metadata": {},
   "outputs": [],
   "source": [
    "import pandas as pd\n",
    "import statsmodels.api as sm\n",
    "from statsmodels.formula.api import ols"
   ]
  },
  {
   "cell_type": "code",
   "execution_count": 38,
   "metadata": {},
   "outputs": [
    {
     "data": {
      "text/html": [
       "<div>\n",
       "<style scoped>\n",
       "    .dataframe tbody tr th:only-of-type {\n",
       "        vertical-align: middle;\n",
       "    }\n",
       "\n",
       "    .dataframe tbody tr th {\n",
       "        vertical-align: top;\n",
       "    }\n",
       "\n",
       "    .dataframe thead th {\n",
       "        text-align: right;\n",
       "    }\n",
       "</style>\n",
       "<table border=\"1\" class=\"dataframe\">\n",
       "  <thead>\n",
       "    <tr style=\"text-align: right;\">\n",
       "      <th></th>\n",
       "      <th>sum_sq</th>\n",
       "      <th>df</th>\n",
       "      <th>F</th>\n",
       "      <th>PR(&gt;F)</th>\n",
       "    </tr>\n",
       "  </thead>\n",
       "  <tbody>\n",
       "    <tr>\n",
       "      <th>C(genre1)</th>\n",
       "      <td>24.532142</td>\n",
       "      <td>17.0</td>\n",
       "      <td>3.615886</td>\n",
       "      <td>0.000002</td>\n",
       "    </tr>\n",
       "    <tr>\n",
       "      <th>Residual</th>\n",
       "      <td>140.080921</td>\n",
       "      <td>351.0</td>\n",
       "      <td>NaN</td>\n",
       "      <td>NaN</td>\n",
       "    </tr>\n",
       "  </tbody>\n",
       "</table>\n",
       "</div>"
      ],
      "text/plain": [
       "               sum_sq     df         F    PR(>F)\n",
       "C(genre1)   24.532142   17.0  3.615886  0.000002\n",
       "Residual   140.080921  351.0       NaN       NaN"
      ]
     },
     "execution_count": 38,
     "metadata": {},
     "output_type": "execute_result"
    }
   ],
   "source": [
    "# ANOVA\n",
    "model = ols('spectateur ~ C(genre1)', data=table_avec_genre).fit()\n",
    "anova_table = sm.stats.anova_lm(model, typ=2)\n",
    "anova_table"
   ]
  },
  {
   "cell_type": "markdown",
   "metadata": {},
   "source": [
    "Avec une p-value de ...... on voit qu'il y a des différences significatives dans la moyenne des notes en fonction du type de film."
   ]
  },
  {
   "cell_type": "code",
   "execution_count": 40,
   "metadata": {},
   "outputs": [
    {
     "data": {
      "text/html": [
       "<div>\n",
       "<style scoped>\n",
       "    .dataframe tbody tr th:only-of-type {\n",
       "        vertical-align: middle;\n",
       "    }\n",
       "\n",
       "    .dataframe tbody tr th {\n",
       "        vertical-align: top;\n",
       "    }\n",
       "\n",
       "    .dataframe thead th {\n",
       "        text-align: right;\n",
       "    }\n",
       "</style>\n",
       "<table border=\"1\" class=\"dataframe\">\n",
       "  <thead>\n",
       "    <tr style=\"text-align: right;\">\n",
       "      <th></th>\n",
       "      <th>sum_sq</th>\n",
       "      <th>df</th>\n",
       "      <th>F</th>\n",
       "      <th>PR(&gt;F)</th>\n",
       "    </tr>\n",
       "  </thead>\n",
       "  <tbody>\n",
       "    <tr>\n",
       "      <th>C(genre1)</th>\n",
       "      <td>1.732901</td>\n",
       "      <td>1.0</td>\n",
       "      <td>5.657184</td>\n",
       "      <td>0.021411</td>\n",
       "    </tr>\n",
       "    <tr>\n",
       "      <th>Residual</th>\n",
       "      <td>14.703299</td>\n",
       "      <td>48.0</td>\n",
       "      <td>NaN</td>\n",
       "      <td>NaN</td>\n",
       "    </tr>\n",
       "  </tbody>\n",
       "</table>\n",
       "</div>"
      ],
      "text/plain": [
       "              sum_sq    df         F    PR(>F)\n",
       "C(genre1)   1.732901   1.0  5.657184  0.021411\n",
       "Residual   14.703299  48.0       NaN       NaN"
      ]
     },
     "execution_count": 40,
     "metadata": {},
     "output_type": "execute_result"
    }
   ],
   "source": [
    "dataframe = table_avec_genre[table_avec_genre['genre1'].isin(['Action', 'Animation'])]\n",
    "model = ols('spectateur ~ C(genre1)', data=dataframe).fit()\n",
    "anova_table = sm.stats.anova_lm(model, typ=2)\n",
    "anova_table"
   ]
  },
  {
   "cell_type": "markdown",
   "metadata": {},
   "source": [
    "### Notations spectateurs et presse"
   ]
  },
  {
   "cell_type": "code",
   "execution_count": 44,
   "metadata": {},
   "outputs": [
    {
     "data": {
      "text/plain": [
       "(0.0, 5.0)"
      ]
     },
     "execution_count": 44,
     "metadata": {},
     "output_type": "execute_result"
    },
    {
     "data": {
      "image/png": "[encoded data removed]",
      "text/plain": [
       "<Figure size 600x500 with 1 Axes>"
      ]
     },
     "metadata": {},
     "output_type": "display_data"
    }
   ],
   "source": [
    "# On pourrait affiner en fonction de la typologie de la presse définie par exemple\n",
    "\n",
    "\n",
    "dataframe = table_avec_genre[table_avec_genre['genre1']=='Comédie']\n",
    "# dataframe = table_avec_genre\n",
    "\n",
    "# nuage de point\n",
    "plt.figure(figsize=(6, 5))\n",
    "sns.scatterplot(data=dataframe, x='spectateur', y='presse', alpha=0.7, linewidth=0.5, legend = False)\n",
    "\n",
    "# Ajout de la regression\n",
    "degre_optimal = get_degre_optimal(dataframe[['spectateur']], dataframe[['presse']])\n",
    "sns.regplot(data=dataframe, x='spectateur', y='presse', scatter=False, color='green', order=degre_optimal)\n",
    "\n",
    "\n",
    "plt.plot([0, 5], [0, 5], 'k--', label='x = y') \n",
    "plt.xlim(0, 5)\n",
    "plt.ylim(0, 5)\n"
   ]
  },
  {
   "cell_type": "markdown",
   "metadata": {},
   "source": [
    "### Genre du réalisateur et budget des films"
   ]
  },
  {
   "cell_type": "code",
   "execution_count": 25,
   "metadata": {},
   "outputs": [
    {
     "data": {
      "application/vnd.jupyter.widget-view+json": {
       "model_id": "780ee735f0a6411fa03fad3762fc9702",
       "version_major": 2,
       "version_minor": 0
      },
      "text/plain": [
       "Dropdown(description='Genre du film :', index=6, options=('Drame', 'Comédie', 'Comédie dramatique', 'Action', …"
      ]
     },
     "metadata": {},
     "output_type": "display_data"
    },
    {
     "data": {
      "image/png": "[encoded data removed]",
      "text/plain": [
       "<Figure size 1000x600 with 1 Axes>"
      ]
     },
     "metadata": {},
     "output_type": "display_data"
    }
   ],
   "source": [
    "graphique_h_f(table_avec_genre)"
   ]
  },
  {
   "cell_type": "markdown",
   "metadata": {},
   "source": [
    "## Test de modèles sur la différence de notation"
   ]
  },
  {
   "cell_type": "markdown",
   "metadata": {},
   "source": [
    "### ANOVA (sur premier genre)"
   ]
  },
  {
   "cell_type": "markdown",
   "metadata": {},
   "source": [
    "### Regression"
   ]
  },
  {
   "cell_type": "markdown",
   "metadata": {},
   "source": [
    "- Notes spectateurs"
   ]
  },
  {
   "cell_type": "code",
   "execution_count": null,
   "metadata": {},
   "outputs": [
    {
     "name": "stdout",
     "output_type": "stream",
     "text": [
      "                            OLS Regression Results                            \n",
      "==============================================================================\n",
      "Dep. Variable:             spectateur   R-squared:                       0.307\n",
      "Model:                            OLS   Adj. R-squared:                  0.288\n",
      "Method:                 Least Squares   F-statistic:                     15.89\n",
      "Date:                Sun, 03 Nov 2024   Prob (F-statistic):           2.22e-19\n",
      "Time:                        19:22:41   Log-Likelihood:                -256.63\n",
      "No. Observations:                 296   AIC:                             531.3\n",
      "Df Residuals:                     287   BIC:                             564.5\n",
      "Df Model:                           8                                         \n",
      "Covariance Type:            nonrobust                                         \n",
      "=========================================================================================\n",
      "                            coef    std err          t      P>|t|      [0.025      0.975]\n",
      "-----------------------------------------------------------------------------------------\n",
      "const                     1.7169      0.195      8.819      0.000       1.334       2.100\n",
      "duree_min                 0.0108      0.002      6.086      0.000       0.007       0.014\n",
      "genre_Action             -0.1085      0.116     -0.935      0.350      -0.337       0.120\n",
      "genre_Animation           0.5397      0.124      4.356      0.000       0.296       0.784\n",
      "genre_Policier           -0.2262      0.181     -1.250      0.212      -0.582       0.130\n",
      "genre_Thriller           -0.2230      0.089     -2.502      0.013      -0.398      -0.048\n",
      "genre_Science Fiction    -0.3843      0.146     -2.633      0.009      -0.672      -0.097\n",
      "genre_Drame               0.4662      0.079      5.892      0.000       0.310       0.622\n",
      "genre_Aventure            0.1063      0.122      0.868      0.386      -0.135       0.347\n",
      "==============================================================================\n",
      "Omnibus:                        9.242   Durbin-Watson:                   1.804\n",
      "Prob(Omnibus):                  0.010   Jarque-Bera (JB):                9.591\n",
      "Skew:                          -0.423   Prob(JB):                      0.00827\n",
      "Kurtosis:                       2.753   Cond. No.                         661.\n",
      "==============================================================================\n",
      "\n",
      "Notes:\n",
      "[1] Standard Errors assume that the covariance matrix of the errors is correctly specified.\n"
     ]
    }
   ],
   "source": [
    "# Définir les variables dépendantes et indépendantes\n",
    "X = df[['duree_min', 'genre_Action', 'genre_Animation', 'genre_Policier', 'genre_Thriller', 'genre_Science Fiction', 'genre_Drame', 'genre_Aventure']]\n",
    "y = df['spectateur']\n",
    "X = sm.add_constant(X)\n",
    "\n",
    "# Régression linéaire OLS\n",
    "model = sm.OLS(y, X).fit()\n",
    "\n",
    "print(model.summary())"
   ]
  },
  {
   "cell_type": "markdown",
   "metadata": {},
   "source": [
    "- Notes presse"
   ]
  },
  {
   "cell_type": "code",
   "execution_count": null,
   "metadata": {},
   "outputs": [
    {
     "name": "stdout",
     "output_type": "stream",
     "text": [
      "                            OLS Regression Results                            \n",
      "==============================================================================\n",
      "Dep. Variable:                 presse   R-squared:                       0.326\n",
      "Model:                            OLS   Adj. R-squared:                  0.308\n",
      "Method:                 Least Squares   F-statistic:                     17.38\n",
      "Date:                Sun, 03 Nov 2024   Prob (F-statistic):           4.49e-21\n",
      "Time:                        19:23:34   Log-Likelihood:                -216.55\n",
      "No. Observations:                 296   AIC:                             451.1\n",
      "Df Residuals:                     287   BIC:                             484.3\n",
      "Df Model:                           8                                         \n",
      "Covariance Type:            nonrobust                                         \n",
      "=========================================================================================\n",
      "                            coef    std err          t      P>|t|      [0.025      0.975]\n",
      "-----------------------------------------------------------------------------------------\n",
      "const                     2.2906      0.170     13.472      0.000       1.956       2.625\n",
      "duree_min                 0.0062      0.002      4.018      0.000       0.003       0.009\n",
      "genre_Action             -0.1262      0.101     -1.245      0.214      -0.326       0.073\n",
      "genre_Animation           0.4875      0.108      4.505      0.000       0.275       0.700\n",
      "genre_Policier           -0.0901      0.158     -0.570      0.569      -0.401       0.221\n",
      "genre_Thriller           -0.1289      0.078     -1.656      0.099      -0.282       0.024\n",
      "genre_Science Fiction    -0.3938      0.127     -3.090      0.002      -0.645      -0.143\n",
      "genre_Drame               0.5373      0.069      7.776      0.000       0.401       0.673\n",
      "genre_Aventure           -0.0148      0.107     -0.138      0.890      -0.225       0.196\n",
      "==============================================================================\n",
      "Omnibus:                       27.373   Durbin-Watson:                   2.040\n",
      "Prob(Omnibus):                  0.000   Jarque-Bera (JB):               32.755\n",
      "Skew:                          -0.729   Prob(JB):                     7.71e-08\n",
      "Kurtosis:                       3.727   Cond. No.                         661.\n",
      "==============================================================================\n",
      "\n",
      "Notes:\n",
      "[1] Standard Errors assume that the covariance matrix of the errors is correctly specified.\n"
     ]
    }
   ],
   "source": [
    "# Définir les variables dépendantes et indépendantes\n",
    "X = df[['duree_min', 'genre_Action', 'genre_Animation', 'genre_Policier', 'genre_Thriller', 'genre_Science Fiction', 'genre_Drame', 'genre_Aventure']]\n",
    "y = df['presse']\n",
    "X = sm.add_constant(X)\n",
    "\n",
    "# Régression linéaire OLS\n",
    "model = sm.OLS(y, X).fit()\n",
    "\n",
    "print(model.summary())"
   ]
  },
  {
   "cell_type": "markdown",
   "metadata": {},
   "source": [
    "- Différences de notations"
   ]
  },
  {
   "cell_type": "code",
   "execution_count": null,
   "metadata": {},
   "outputs": [
    {
     "name": "stdout",
     "output_type": "stream",
     "text": [
      "                            OLS Regression Results                            \n",
      "==============================================================================\n",
      "Dep. Variable:          diff_notation   R-squared:                       0.051\n",
      "Model:                            OLS   Adj. R-squared:                  0.025\n",
      "Method:                 Least Squares   F-statistic:                     1.929\n",
      "Date:                Sun, 03 Nov 2024   Prob (F-statistic):             0.0556\n",
      "Time:                        19:25:00   Log-Likelihood:                -226.63\n",
      "No. Observations:                 296   AIC:                             471.3\n",
      "Df Residuals:                     287   BIC:                             504.5\n",
      "Df Model:                           8                                         \n",
      "Covariance Type:            nonrobust                                         \n",
      "=========================================================================================\n",
      "                            coef    std err          t      P>|t|      [0.025      0.975]\n",
      "-----------------------------------------------------------------------------------------\n",
      "const                    -0.5737      0.176     -3.261      0.001      -0.920      -0.227\n",
      "duree_min                 0.0046      0.002      2.851      0.005       0.001       0.008\n",
      "genre_Action              0.0176      0.105      0.168      0.867      -0.189       0.224\n",
      "genre_Animation           0.0522      0.112      0.467      0.641      -0.168       0.273\n",
      "genre_Policier           -0.1361      0.164     -0.832      0.406      -0.458       0.186\n",
      "genre_Thriller           -0.0941      0.081     -1.168      0.244      -0.253       0.064\n",
      "genre_Science Fiction     0.0096      0.132      0.072      0.942      -0.250       0.269\n",
      "genre_Drame              -0.0711      0.071     -0.995      0.321      -0.212       0.070\n",
      "genre_Aventure            0.1211      0.111      1.094      0.275      -0.097       0.339\n",
      "==============================================================================\n",
      "Omnibus:                        0.896   Durbin-Watson:                   1.935\n",
      "Prob(Omnibus):                  0.639   Jarque-Bera (JB):                0.642\n",
      "Skew:                          -0.077   Prob(JB):                        0.725\n",
      "Kurtosis:                       3.169   Cond. No.                         661.\n",
      "==============================================================================\n",
      "\n",
      "Notes:\n",
      "[1] Standard Errors assume that the covariance matrix of the errors is correctly specified.\n"
     ]
    }
   ],
   "source": [
    "# Définir les variables dépendantes et indépendantes\n",
    "X = df[['duree_min', 'genre_Action', 'genre_Animation', 'genre_Policier', 'genre_Thriller', 'genre_Science Fiction', 'genre_Drame', 'genre_Aventure']]\n",
    "y = df['diff_notation']\n",
    "X = sm.add_constant(X)\n",
    "\n",
    "# Régression linéaire OLS\n",
    "model = sm.OLS(y, X).fit()\n",
    "\n",
    "print(model.summary())"
   ]
  },
  {
   "cell_type": "code",
   "execution_count": null,
   "metadata": {},
   "outputs": [
    {
     "name": "stdout",
     "output_type": "stream",
     "text": [
      "                    Robust linear Model Regression Results                    \n",
      "==============================================================================\n",
      "Dep. Variable:          diff_notation   No. Observations:                  296\n",
      "Model:                            RLM   Df Residuals:                      288\n",
      "Method:                          IRLS   Df Model:                            7\n",
      "Norm:                          HuberT                                         \n",
      "Scale Est.:                       mad                                         \n",
      "Cov Type:                          H1                                         \n",
      "Date:                Sun, 03 Nov 2024                                         \n",
      "Time:                        19:25:14                                         \n",
      "No. Iterations:                    16                                         \n",
      "=====================================================================================\n",
      "                        coef    std err          z      P>|z|      [0.025      0.975]\n",
      "-------------------------------------------------------------------------------------\n",
      "Intercept            -0.5961      0.180     -3.310      0.001      -0.949      -0.243\n",
      "duree_min             0.0048      0.002      2.842      0.004       0.001       0.008\n",
      "genre_Action          0.0192      0.107      0.179      0.858      -0.191       0.230\n",
      "genre_Animation       0.0871      0.115      0.759      0.448      -0.138       0.312\n",
      "genre_Policier       -0.1676      0.169     -0.992      0.321      -0.499       0.164\n",
      "genre_Fantastique    -0.0170      0.136     -0.125      0.901      -0.285       0.251\n",
      "genre_Drame          -0.0969      0.074     -1.303      0.192      -0.243       0.049\n",
      "genre_Aventure        0.1257      0.114      1.104      0.269      -0.097       0.349\n",
      "=====================================================================================\n",
      "\n",
      "If the model instance has been used for another fit with different fit parameters, then the fit options might not be the correct ones anymore .\n"
     ]
    }
   ],
   "source": [
    "# test robuste à l'hétéroscédasticité ?\n",
    "model = rlm(\"diff_notation ~ duree_min + genre_Action + genre_Animation+genre_Policier+genre_Fantastique+genre_Drame+genre_Aventure\", data=df).fit()\n",
    "print(model.summary())"
   ]
  }
 ],
 "metadata": {
  "kernelspec": {
   "display_name": "base",
   "language": "python",
   "name": "python3"
  },
  "language_info": {
   "codemirror_mode": {
    "name": "ipython",
    "version": 3
   },
   "file_extension": ".py",
   "mimetype": "text/x-python",
   "name": "python",
   "nbconvert_exporter": "python",
   "pygments_lexer": "ipython3",
   "version": "3.12.6"
  }
 },
 "nbformat": 4,
 "nbformat_minor": 2
}
