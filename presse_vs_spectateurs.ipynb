{
 "cells": [
  {
   "cell_type": "code",
   "execution_count": null,
   "metadata": {},
   "outputs": [],
   "source": [
    "# !pip install ipywidgets\n",
    "# !jupyter nbextension enable --py widgetsnbextension"
   ]
  },
  {
   "cell_type": "code",
   "execution_count": 1,
   "metadata": {},
   "outputs": [],
   "source": [
    "# Importation des librairies\n",
    "from webscraping.ws_fonctions import *\n",
    "from fonctions_1_nettoyage import *\n",
    "from fonctions_2_graph import *\n",
    "\n",
    "import seaborn as sns #pas besoin si utilise fonctions\n",
    "import matplotlib.pyplot as plt\n",
    "\n",
    "# Regression\n",
    "import statsmodels.api as sm\n",
    "from statsmodels.formula.api import rlm "
   ]
  },
  {
   "cell_type": "markdown",
   "metadata": {},
   "source": [
    "## Création de la base de données"
   ]
  },
  {
   "cell_type": "markdown",
   "metadata": {},
   "source": [
    "### Webscrapping AlloCiné"
   ]
  },
  {
   "cell_type": "code",
   "execution_count": 2,
   "metadata": {},
   "outputs": [
    {
     "name": "stdout",
     "output_type": "stream",
     "text": [
      "nombre de films récupérés :  491\n",
      "nombre de films récupérés :  518\n",
      "nombre de films récupérés :  521\n"
     ]
    }
   ],
   "source": [
    "base_films = get_base_films(2010,2012)"
   ]
  },
  {
   "cell_type": "markdown",
   "metadata": {},
   "source": [
    "### Ajout et création de variables"
   ]
  },
  {
   "cell_type": "code",
   "execution_count": 32,
   "metadata": {},
   "outputs": [
    {
     "data": {
      "text/plain": [
       "genre_ind\n",
       "m      954\n",
       "f      167\n",
       "m,f     48\n",
       "f,m     14\n",
       "Name: count, dtype: int64"
      ]
     },
     "execution_count": 32,
     "metadata": {},
     "output_type": "execute_result"
    }
   ],
   "source": [
    "# Ajout du genre des réalisateurs\n",
    "table_avec_genre = get_genre_individuel(base_films, 'auteur')\n",
    "\n",
    "# Aperçu du nb de réalisateurs m vs f\n",
    "table_avec_genre['genre_ind'].value_counts()\n"
   ]
  },
  {
   "cell_type": "code",
   "execution_count": 33,
   "metadata": {},
   "outputs": [
    {
     "data": {
      "text/html": [
       "<div>\n",
       "<style scoped>\n",
       "    .dataframe tbody tr th:only-of-type {\n",
       "        vertical-align: middle;\n",
       "    }\n",
       "\n",
       "    .dataframe tbody tr th {\n",
       "        vertical-align: top;\n",
       "    }\n",
       "\n",
       "    .dataframe thead th {\n",
       "        text-align: right;\n",
       "    }\n",
       "</style>\n",
       "<table border=\"1\" class=\"dataframe\">\n",
       "  <thead>\n",
       "    <tr style=\"text-align: right;\">\n",
       "      <th></th>\n",
       "      <th>genre_ind</th>\n",
       "      <th>titre</th>\n",
       "      <th>identifiant</th>\n",
       "      <th>date</th>\n",
       "      <th>durée</th>\n",
       "      <th>auteur</th>\n",
       "      <th>spectateur</th>\n",
       "      <th>presse</th>\n",
       "      <th>genre1</th>\n",
       "      <th>genre2</th>\n",
       "      <th>genre3</th>\n",
       "    </tr>\n",
       "  </thead>\n",
       "  <tbody>\n",
       "    <tr>\n",
       "      <th>0</th>\n",
       "      <td>m</td>\n",
       "      <td>4h44 Dernier jour sur terre</td>\n",
       "      <td>193915</td>\n",
       "      <td>19 décembre 2012</td>\n",
       "      <td>1h 22min</td>\n",
       "      <td>Abel Ferrara</td>\n",
       "      <td>2,2</td>\n",
       "      <td>3,3</td>\n",
       "      <td>Drame</td>\n",
       "      <td>Science Fiction</td>\n",
       "      <td></td>\n",
       "    </tr>\n",
       "    <tr>\n",
       "      <th>1</th>\n",
       "      <td>m</td>\n",
       "      <td>Very Bad Cops</td>\n",
       "      <td>144195</td>\n",
       "      <td>27 octobre 2010</td>\n",
       "      <td>1h 47min</td>\n",
       "      <td>Adam McKay</td>\n",
       "      <td>2,5</td>\n",
       "      <td>3,3</td>\n",
       "      <td>Action</td>\n",
       "      <td>Comédie</td>\n",
       "      <td></td>\n",
       "    </tr>\n",
       "    <tr>\n",
       "      <th>2</th>\n",
       "      <td>m</td>\n",
       "      <td>You're Next</td>\n",
       "      <td>192301</td>\n",
       "      <td>4 septembre 2013</td>\n",
       "      <td>1h 35min</td>\n",
       "      <td>Adam Wingard</td>\n",
       "      <td>3,0</td>\n",
       "      <td>3,3</td>\n",
       "      <td>Epouvante-horreur</td>\n",
       "      <td></td>\n",
       "      <td></td>\n",
       "    </tr>\n",
       "    <tr>\n",
       "      <th>3</th>\n",
       "      <td>m</td>\n",
       "      <td>Rock Forever</td>\n",
       "      <td>141538</td>\n",
       "      <td>11 juillet 2012</td>\n",
       "      <td>2h 02min</td>\n",
       "      <td>Adam Shankman</td>\n",
       "      <td>2,9</td>\n",
       "      <td>2,5</td>\n",
       "      <td>Comédie dramatique</td>\n",
       "      <td>Comédie musicale</td>\n",
       "      <td></td>\n",
       "    </tr>\n",
       "    <tr>\n",
       "      <th>4</th>\n",
       "      <td>m</td>\n",
       "      <td>Gimme the Loot</td>\n",
       "      <td>203507</td>\n",
       "      <td>2 janvier 2013</td>\n",
       "      <td>1h 21min</td>\n",
       "      <td>Adam Leon</td>\n",
       "      <td>2,9</td>\n",
       "      <td>3,6</td>\n",
       "      <td>Drame</td>\n",
       "      <td></td>\n",
       "      <td></td>\n",
       "    </tr>\n",
       "  </tbody>\n",
       "</table>\n",
       "</div>"
      ],
      "text/plain": [
       "  genre_ind                        titre identifiant              date  \\\n",
       "0         m  4h44 Dernier jour sur terre      193915  19 décembre 2012   \n",
       "1         m                Very Bad Cops      144195   27 octobre 2010   \n",
       "2         m                  You're Next      192301  4 septembre 2013   \n",
       "3         m                 Rock Forever      141538   11 juillet 2012   \n",
       "4         m               Gimme the Loot      203507    2 janvier 2013   \n",
       "\n",
       "      durée         auteur spectateur presse              genre1  \\\n",
       "0  1h 22min   Abel Ferrara        2,2    3,3               Drame   \n",
       "1  1h 47min     Adam McKay        2,5    3,3              Action   \n",
       "2  1h 35min   Adam Wingard        3,0    3,3   Epouvante-horreur   \n",
       "3  2h 02min  Adam Shankman        2,9    2,5  Comédie dramatique   \n",
       "4  1h 21min      Adam Leon        2,9    3,6               Drame   \n",
       "\n",
       "             genre2 genre3  \n",
       "0   Science Fiction         \n",
       "1           Comédie         \n",
       "2                           \n",
       "3  Comédie musicale         \n",
       "4                           "
      ]
     },
     "execution_count": 33,
     "metadata": {},
     "output_type": "execute_result"
    }
   ],
   "source": [
    "table_avec_genre.head()"
   ]
  },
  {
   "cell_type": "code",
   "execution_count": 34,
   "metadata": {},
   "outputs": [
    {
     "name": "stdout",
     "output_type": "stream",
     "text": [
      "nombre de films pris en compte : 1183\n"
     ]
    }
   ],
   "source": [
    "# Transformation des types de films en variables dummy \n",
    "dummies1 = pd.get_dummies(table_avec_genre['genre1'], prefix='genre')\n",
    "dummies2 = pd.get_dummies(table_avec_genre['genre2'], prefix='genre')\n",
    "dummies3 = pd.get_dummies(table_avec_genre['genre3'], prefix='genre')\n",
    "\n",
    "dummies1 = dummies1.astype(int)\n",
    "dummies2 = dummies2.astype(int)\n",
    "dummies3 = dummies3.astype(int)\n",
    "\n",
    "dummies_sum = dummies1.add(dummies2, fill_value=0).add(dummies3, fill_value=0)\n",
    "dummies_sum = dummies_sum.drop(columns=['genre_'])\n",
    "\n",
    "df = pd.concat([table_avec_genre, dummies_sum], axis=1)\n",
    "print('nombre de films pris en compte :', len(df))"
   ]
  },
  {
   "cell_type": "code",
   "execution_count": 35,
   "metadata": {},
   "outputs": [],
   "source": [
    "# Conversion des notes en décimale\n",
    "table_avec_genre['spectateur'] = table_avec_genre['spectateur'].apply(mise_en_forme_decimale)\n",
    "table_avec_genre['presse'] = table_avec_genre['presse'].apply(mise_en_forme_decimale)"
   ]
  },
  {
   "cell_type": "code",
   "execution_count": 36,
   "metadata": {},
   "outputs": [
    {
     "data": {
      "text/html": [
       "<div>\n",
       "<style scoped>\n",
       "    .dataframe tbody tr th:only-of-type {\n",
       "        vertical-align: middle;\n",
       "    }\n",
       "\n",
       "    .dataframe tbody tr th {\n",
       "        vertical-align: top;\n",
       "    }\n",
       "\n",
       "    .dataframe thead th {\n",
       "        text-align: right;\n",
       "    }\n",
       "</style>\n",
       "<table border=\"1\" class=\"dataframe\">\n",
       "  <thead>\n",
       "    <tr style=\"text-align: right;\">\n",
       "      <th></th>\n",
       "      <th>genre_ind</th>\n",
       "      <th>titre</th>\n",
       "      <th>identifiant</th>\n",
       "      <th>date</th>\n",
       "      <th>durée</th>\n",
       "      <th>auteur</th>\n",
       "      <th>spectateur</th>\n",
       "      <th>presse</th>\n",
       "      <th>genre1</th>\n",
       "      <th>genre2</th>\n",
       "      <th>genre3</th>\n",
       "      <th>diff_notation</th>\n",
       "    </tr>\n",
       "  </thead>\n",
       "  <tbody>\n",
       "    <tr>\n",
       "      <th>0</th>\n",
       "      <td>m</td>\n",
       "      <td>4h44 Dernier jour sur terre</td>\n",
       "      <td>193915</td>\n",
       "      <td>19 décembre 2012</td>\n",
       "      <td>1h 22min</td>\n",
       "      <td>Abel Ferrara</td>\n",
       "      <td>2.2</td>\n",
       "      <td>3.3</td>\n",
       "      <td>Drame</td>\n",
       "      <td>Science Fiction</td>\n",
       "      <td></td>\n",
       "      <td>-1.1</td>\n",
       "    </tr>\n",
       "    <tr>\n",
       "      <th>1</th>\n",
       "      <td>m</td>\n",
       "      <td>Very Bad Cops</td>\n",
       "      <td>144195</td>\n",
       "      <td>27 octobre 2010</td>\n",
       "      <td>1h 47min</td>\n",
       "      <td>Adam McKay</td>\n",
       "      <td>2.5</td>\n",
       "      <td>3.3</td>\n",
       "      <td>Action</td>\n",
       "      <td>Comédie</td>\n",
       "      <td></td>\n",
       "      <td>-0.8</td>\n",
       "    </tr>\n",
       "    <tr>\n",
       "      <th>2</th>\n",
       "      <td>m</td>\n",
       "      <td>You're Next</td>\n",
       "      <td>192301</td>\n",
       "      <td>4 septembre 2013</td>\n",
       "      <td>1h 35min</td>\n",
       "      <td>Adam Wingard</td>\n",
       "      <td>3.0</td>\n",
       "      <td>3.3</td>\n",
       "      <td>Epouvante-horreur</td>\n",
       "      <td></td>\n",
       "      <td></td>\n",
       "      <td>-0.3</td>\n",
       "    </tr>\n",
       "    <tr>\n",
       "      <th>3</th>\n",
       "      <td>m</td>\n",
       "      <td>Rock Forever</td>\n",
       "      <td>141538</td>\n",
       "      <td>11 juillet 2012</td>\n",
       "      <td>2h 02min</td>\n",
       "      <td>Adam Shankman</td>\n",
       "      <td>2.9</td>\n",
       "      <td>2.5</td>\n",
       "      <td>Comédie dramatique</td>\n",
       "      <td>Comédie musicale</td>\n",
       "      <td></td>\n",
       "      <td>0.4</td>\n",
       "    </tr>\n",
       "    <tr>\n",
       "      <th>4</th>\n",
       "      <td>m</td>\n",
       "      <td>Gimme the Loot</td>\n",
       "      <td>203507</td>\n",
       "      <td>2 janvier 2013</td>\n",
       "      <td>1h 21min</td>\n",
       "      <td>Adam Leon</td>\n",
       "      <td>2.9</td>\n",
       "      <td>3.6</td>\n",
       "      <td>Drame</td>\n",
       "      <td></td>\n",
       "      <td></td>\n",
       "      <td>-0.7</td>\n",
       "    </tr>\n",
       "  </tbody>\n",
       "</table>\n",
       "</div>"
      ],
      "text/plain": [
       "  genre_ind                        titre identifiant              date  \\\n",
       "0         m  4h44 Dernier jour sur terre      193915  19 décembre 2012   \n",
       "1         m                Very Bad Cops      144195   27 octobre 2010   \n",
       "2         m                  You're Next      192301  4 septembre 2013   \n",
       "3         m                 Rock Forever      141538   11 juillet 2012   \n",
       "4         m               Gimme the Loot      203507    2 janvier 2013   \n",
       "\n",
       "      durée         auteur  spectateur  presse              genre1  \\\n",
       "0  1h 22min   Abel Ferrara         2.2     3.3               Drame   \n",
       "1  1h 47min     Adam McKay         2.5     3.3              Action   \n",
       "2  1h 35min   Adam Wingard         3.0     3.3   Epouvante-horreur   \n",
       "3  2h 02min  Adam Shankman         2.9     2.5  Comédie dramatique   \n",
       "4  1h 21min      Adam Leon         2.9     3.6               Drame   \n",
       "\n",
       "             genre2 genre3  diff_notation  \n",
       "0   Science Fiction                  -1.1  \n",
       "1           Comédie                  -0.8  \n",
       "2                                    -0.3  \n",
       "3  Comédie musicale                   0.4  \n",
       "4                                    -0.7  "
      ]
     },
     "execution_count": 36,
     "metadata": {},
     "output_type": "execute_result"
    }
   ],
   "source": [
    "# Création variable : différence de notation entre spectateur et presse\n",
    "table_avec_genre['diff_notation'] = table_avec_genre['spectateur']-table_avec_genre['presse']\n",
    "table_avec_genre.head()\n"
   ]
  },
  {
   "cell_type": "code",
   "execution_count": 38,
   "metadata": {},
   "outputs": [],
   "source": [
    "table_avec_genre = get_annee(table_avec_genre, 'date')"
   ]
  },
  {
   "cell_type": "code",
   "execution_count": 40,
   "metadata": {},
   "outputs": [],
   "source": [
    "# Conversion de la durée en minutes\n",
    "table_avec_genre['durée'] = table_avec_genre['durée'].astype('string')\n",
    "table_avec_genre['duree_min'] = table_avec_genre['durée'].apply(duree_en_minutes)"
   ]
  },
  {
   "cell_type": "markdown",
   "metadata": {},
   "source": [
    "## Quelques graphes...."
   ]
  },
  {
   "cell_type": "code",
   "execution_count": null,
   "metadata": {},
   "outputs": [
    {
     "data": {
      "application/vnd.jupyter.widget-view+json": {
       "model_id": "f229d3eabade4e79877867dfcf341946",
       "version_major": 2,
       "version_minor": 0
      },
      "text/plain": [
       "Dropdown(description='Genre :', index=2, options=('Drame', 'Comédie', 'Action', 'Comédie dramatique', 'Aventur…"
      ]
     },
     "metadata": {},
     "output_type": "display_data"
    },
    {
     "data": {
      "image/png": "[encoded data removed]",
      "text/plain": [
       "<Figure size 800x600 with 1 Axes>"
      ]
     },
     "metadata": {},
     "output_type": "display_data"
    }
   ],
   "source": [
    "graphique_genre_film(table_avec_genre)  "
   ]
  },
  {
   "cell_type": "code",
   "execution_count": 142,
   "metadata": {},
   "outputs": [
    {
     "data": {
      "application/vnd.jupyter.widget-view+json": {
       "model_id": "6630459750a2468b9147422caf8080f9",
       "version_major": 2,
       "version_minor": 0
      },
      "text/plain": [
       "Dropdown(description='Genre du film :', options=('Drame', 'Comédie', 'Action', 'Comédie dramatique', 'Aventure…"
      ]
     },
     "metadata": {},
     "output_type": "display_data"
    },
    {
     "data": {
      "image/png": "[encoded data removed]",
      "text/plain": [
       "<Figure size 1000x600 with 1 Axes>"
      ]
     },
     "metadata": {},
     "output_type": "display_data"
    }
   ],
   "source": [
    "graphique_h_f(table_avec_genre)"
   ]
  },
  {
   "cell_type": "markdown",
   "metadata": {},
   "source": [
    "## Test de modèles sur la différence de notation"
   ]
  },
  {
   "cell_type": "markdown",
   "metadata": {},
   "source": [
    "### ANOVA (sur premier genre)"
   ]
  },
  {
   "cell_type": "markdown",
   "metadata": {},
   "source": [
    "### Regression"
   ]
  },
  {
   "cell_type": "markdown",
   "metadata": {},
   "source": [
    "- Notes spectateurs"
   ]
  },
  {
   "cell_type": "code",
   "execution_count": 122,
   "metadata": {},
   "outputs": [
    {
     "name": "stdout",
     "output_type": "stream",
     "text": [
      "                            OLS Regression Results                            \n",
      "==============================================================================\n",
      "Dep. Variable:             spectateur   R-squared:                       0.307\n",
      "Model:                            OLS   Adj. R-squared:                  0.288\n",
      "Method:                 Least Squares   F-statistic:                     15.89\n",
      "Date:                Sun, 03 Nov 2024   Prob (F-statistic):           2.22e-19\n",
      "Time:                        19:22:41   Log-Likelihood:                -256.63\n",
      "No. Observations:                 296   AIC:                             531.3\n",
      "Df Residuals:                     287   BIC:                             564.5\n",
      "Df Model:                           8                                         \n",
      "Covariance Type:            nonrobust                                         \n",
      "=========================================================================================\n",
      "                            coef    std err          t      P>|t|      [0.025      0.975]\n",
      "-----------------------------------------------------------------------------------------\n",
      "const                     1.7169      0.195      8.819      0.000       1.334       2.100\n",
      "duree_min                 0.0108      0.002      6.086      0.000       0.007       0.014\n",
      "genre_Action             -0.1085      0.116     -0.935      0.350      -0.337       0.120\n",
      "genre_Animation           0.5397      0.124      4.356      0.000       0.296       0.784\n",
      "genre_Policier           -0.2262      0.181     -1.250      0.212      -0.582       0.130\n",
      "genre_Thriller           -0.2230      0.089     -2.502      0.013      -0.398      -0.048\n",
      "genre_Science Fiction    -0.3843      0.146     -2.633      0.009      -0.672      -0.097\n",
      "genre_Drame               0.4662      0.079      5.892      0.000       0.310       0.622\n",
      "genre_Aventure            0.1063      0.122      0.868      0.386      -0.135       0.347\n",
      "==============================================================================\n",
      "Omnibus:                        9.242   Durbin-Watson:                   1.804\n",
      "Prob(Omnibus):                  0.010   Jarque-Bera (JB):                9.591\n",
      "Skew:                          -0.423   Prob(JB):                      0.00827\n",
      "Kurtosis:                       2.753   Cond. No.                         661.\n",
      "==============================================================================\n",
      "\n",
      "Notes:\n",
      "[1] Standard Errors assume that the covariance matrix of the errors is correctly specified.\n"
     ]
    }
   ],
   "source": [
    "# Définir les variables dépendantes et indépendantes\n",
    "X = df[['duree_min', 'genre_Action', 'genre_Animation', 'genre_Policier', 'genre_Thriller', 'genre_Science Fiction', 'genre_Drame', 'genre_Aventure']]\n",
    "y = df['spectateur']\n",
    "X = sm.add_constant(X)\n",
    "\n",
    "# Régression linéaire OLS\n",
    "model = sm.OLS(y, X).fit()\n",
    "\n",
    "print(model.summary())"
   ]
  },
  {
   "cell_type": "markdown",
   "metadata": {},
   "source": [
    "- Notes presse"
   ]
  },
  {
   "cell_type": "code",
   "execution_count": 124,
   "metadata": {},
   "outputs": [
    {
     "name": "stdout",
     "output_type": "stream",
     "text": [
      "                            OLS Regression Results                            \n",
      "==============================================================================\n",
      "Dep. Variable:                 presse   R-squared:                       0.326\n",
      "Model:                            OLS   Adj. R-squared:                  0.308\n",
      "Method:                 Least Squares   F-statistic:                     17.38\n",
      "Date:                Sun, 03 Nov 2024   Prob (F-statistic):           4.49e-21\n",
      "Time:                        19:23:34   Log-Likelihood:                -216.55\n",
      "No. Observations:                 296   AIC:                             451.1\n",
      "Df Residuals:                     287   BIC:                             484.3\n",
      "Df Model:                           8                                         \n",
      "Covariance Type:            nonrobust                                         \n",
      "=========================================================================================\n",
      "                            coef    std err          t      P>|t|      [0.025      0.975]\n",
      "-----------------------------------------------------------------------------------------\n",
      "const                     2.2906      0.170     13.472      0.000       1.956       2.625\n",
      "duree_min                 0.0062      0.002      4.018      0.000       0.003       0.009\n",
      "genre_Action             -0.1262      0.101     -1.245      0.214      -0.326       0.073\n",
      "genre_Animation           0.4875      0.108      4.505      0.000       0.275       0.700\n",
      "genre_Policier           -0.0901      0.158     -0.570      0.569      -0.401       0.221\n",
      "genre_Thriller           -0.1289      0.078     -1.656      0.099      -0.282       0.024\n",
      "genre_Science Fiction    -0.3938      0.127     -3.090      0.002      -0.645      -0.143\n",
      "genre_Drame               0.5373      0.069      7.776      0.000       0.401       0.673\n",
      "genre_Aventure           -0.0148      0.107     -0.138      0.890      -0.225       0.196\n",
      "==============================================================================\n",
      "Omnibus:                       27.373   Durbin-Watson:                   2.040\n",
      "Prob(Omnibus):                  0.000   Jarque-Bera (JB):               32.755\n",
      "Skew:                          -0.729   Prob(JB):                     7.71e-08\n",
      "Kurtosis:                       3.727   Cond. No.                         661.\n",
      "==============================================================================\n",
      "\n",
      "Notes:\n",
      "[1] Standard Errors assume that the covariance matrix of the errors is correctly specified.\n"
     ]
    }
   ],
   "source": [
    "# Définir les variables dépendantes et indépendantes\n",
    "X = df[['duree_min', 'genre_Action', 'genre_Animation', 'genre_Policier', 'genre_Thriller', 'genre_Science Fiction', 'genre_Drame', 'genre_Aventure']]\n",
    "y = df['presse']\n",
    "X = sm.add_constant(X)\n",
    "\n",
    "# Régression linéaire OLS\n",
    "model = sm.OLS(y, X).fit()\n",
    "\n",
    "print(model.summary())"
   ]
  },
  {
   "cell_type": "markdown",
   "metadata": {},
   "source": [
    "- Différences de notations"
   ]
  },
  {
   "cell_type": "code",
   "execution_count": 125,
   "metadata": {},
   "outputs": [
    {
     "name": "stdout",
     "output_type": "stream",
     "text": [
      "                            OLS Regression Results                            \n",
      "==============================================================================\n",
      "Dep. Variable:          diff_notation   R-squared:                       0.051\n",
      "Model:                            OLS   Adj. R-squared:                  0.025\n",
      "Method:                 Least Squares   F-statistic:                     1.929\n",
      "Date:                Sun, 03 Nov 2024   Prob (F-statistic):             0.0556\n",
      "Time:                        19:25:00   Log-Likelihood:                -226.63\n",
      "No. Observations:                 296   AIC:                             471.3\n",
      "Df Residuals:                     287   BIC:                             504.5\n",
      "Df Model:                           8                                         \n",
      "Covariance Type:            nonrobust                                         \n",
      "=========================================================================================\n",
      "                            coef    std err          t      P>|t|      [0.025      0.975]\n",
      "-----------------------------------------------------------------------------------------\n",
      "const                    -0.5737      0.176     -3.261      0.001      -0.920      -0.227\n",
      "duree_min                 0.0046      0.002      2.851      0.005       0.001       0.008\n",
      "genre_Action              0.0176      0.105      0.168      0.867      -0.189       0.224\n",
      "genre_Animation           0.0522      0.112      0.467      0.641      -0.168       0.273\n",
      "genre_Policier           -0.1361      0.164     -0.832      0.406      -0.458       0.186\n",
      "genre_Thriller           -0.0941      0.081     -1.168      0.244      -0.253       0.064\n",
      "genre_Science Fiction     0.0096      0.132      0.072      0.942      -0.250       0.269\n",
      "genre_Drame              -0.0711      0.071     -0.995      0.321      -0.212       0.070\n",
      "genre_Aventure            0.1211      0.111      1.094      0.275      -0.097       0.339\n",
      "==============================================================================\n",
      "Omnibus:                        0.896   Durbin-Watson:                   1.935\n",
      "Prob(Omnibus):                  0.639   Jarque-Bera (JB):                0.642\n",
      "Skew:                          -0.077   Prob(JB):                        0.725\n",
      "Kurtosis:                       3.169   Cond. No.                         661.\n",
      "==============================================================================\n",
      "\n",
      "Notes:\n",
      "[1] Standard Errors assume that the covariance matrix of the errors is correctly specified.\n"
     ]
    }
   ],
   "source": [
    "# Définir les variables dépendantes et indépendantes\n",
    "X = df[['duree_min', 'genre_Action', 'genre_Animation', 'genre_Policier', 'genre_Thriller', 'genre_Science Fiction', 'genre_Drame', 'genre_Aventure']]\n",
    "y = df['diff_notation']\n",
    "X = sm.add_constant(X)\n",
    "\n",
    "# Régression linéaire OLS\n",
    "model = sm.OLS(y, X).fit()\n",
    "\n",
    "print(model.summary())"
   ]
  },
  {
   "cell_type": "code",
   "execution_count": 126,
   "metadata": {},
   "outputs": [
    {
     "name": "stdout",
     "output_type": "stream",
     "text": [
      "                    Robust linear Model Regression Results                    \n",
      "==============================================================================\n",
      "Dep. Variable:          diff_notation   No. Observations:                  296\n",
      "Model:                            RLM   Df Residuals:                      288\n",
      "Method:                          IRLS   Df Model:                            7\n",
      "Norm:                          HuberT                                         \n",
      "Scale Est.:                       mad                                         \n",
      "Cov Type:                          H1                                         \n",
      "Date:                Sun, 03 Nov 2024                                         \n",
      "Time:                        19:25:14                                         \n",
      "No. Iterations:                    16                                         \n",
      "=====================================================================================\n",
      "                        coef    std err          z      P>|z|      [0.025      0.975]\n",
      "-------------------------------------------------------------------------------------\n",
      "Intercept            -0.5961      0.180     -3.310      0.001      -0.949      -0.243\n",
      "duree_min             0.0048      0.002      2.842      0.004       0.001       0.008\n",
      "genre_Action          0.0192      0.107      0.179      0.858      -0.191       0.230\n",
      "genre_Animation       0.0871      0.115      0.759      0.448      -0.138       0.312\n",
      "genre_Policier       -0.1676      0.169     -0.992      0.321      -0.499       0.164\n",
      "genre_Fantastique    -0.0170      0.136     -0.125      0.901      -0.285       0.251\n",
      "genre_Drame          -0.0969      0.074     -1.303      0.192      -0.243       0.049\n",
      "genre_Aventure        0.1257      0.114      1.104      0.269      -0.097       0.349\n",
      "=====================================================================================\n",
      "\n",
      "If the model instance has been used for another fit with different fit parameters, then the fit options might not be the correct ones anymore .\n"
     ]
    }
   ],
   "source": [
    "# test robuste à l'hétéroscédasticité ?\n",
    "model = rlm(\"diff_notation ~ duree_min + genre_Action + genre_Animation+genre_Policier+genre_Fantastique+genre_Drame+genre_Aventure\", data=df).fit()\n",
    "print(model.summary())"
   ]
  }
 ],
 "metadata": {
  "kernelspec": {
   "display_name": "Python 3",
   "language": "python",
   "name": "python3"
  },
  "language_info": {
   "codemirror_mode": {
    "name": "ipython",
    "version": 3
   },
   "file_extension": ".py",
   "mimetype": "text/x-python",
   "name": "python",
   "nbconvert_exporter": "python",
   "pygments_lexer": "ipython3",
   "version": "3.11.9"
  }
 },
 "nbformat": 4,
 "nbformat_minor": 2
}
